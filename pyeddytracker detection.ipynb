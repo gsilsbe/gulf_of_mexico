{
 "cells": [
  {
   "cell_type": "code",
   "execution_count": 1,
   "id": "d4d96bc6-1f98-45bb-acab-ed13ed5d8f75",
   "metadata": {},
   "outputs": [],
   "source": [
    "from py_eddy_tracker import data\n",
    "from py_eddy_tracker.dataset.grid import RegularGridDataset\n",
    "from py_eddy_tracker.observations.observation import EddiesObservations\n",
    "\n",
    "import os, glob\n",
    "from datetime import datetime\n",
    "from matplotlib import pyplot as plt\n",
    "from matplotlib.pyplot import figure\n",
    "from numpy import arange\n",
    "import xarray as xr\n",
    "from netCDF4 import Dataset\n"
   ]
  },
  {
   "cell_type": "markdown",
   "id": "4ab5f987-51d0-4cf8-acc8-2d277d4acfdb",
   "metadata": {},
   "source": [
    "### Functions to invoke PyEddyTracker\n",
    "\n",
    "###### https://py-eddy-tracker.readthedocs.io/en/stable/_autosummary/py_eddy_tracker.dataset.grid.RegularGridDataset.html?highlight=bessel_high_filter#py_eddy_tracker.dataset.grid.RegularGridDataset.bessel_high_filter\n",
    "###### https://py-eddy-tracker.readthedocs.io/en/stable/_autosummary/py_eddy_tracker.appli.grid.identification.html?highlight=eddy_identification#py_eddy_tracker.appli.grid.identification"
   ]
  },
  {
   "cell_type": "code",
   "execution_count": 13,
   "id": "fe6591a2-eb0f-4311-983f-78f438b6dcf7",
   "metadata": {},
   "outputs": [],
   "source": [
    "# Function to convert longitude from 0..360 to -180..180\n",
    "\n",
    "def modify_lon(eddy_file):\n",
    "    foo =  Dataset(eddy_file, \"a\")\n",
    "    foo.variables['longitude'][:] = foo.variables['longitude'][:] - 360\n",
    "    foo.variables['longitude_max'][:] = foo.variables['longitude_max'][:] - 360\n",
    "    foo.variables['effective_contour_longitude'][:] = foo.variables['effective_contour_longitude'][:] -360\n",
    "    foo.variables['speed_contour_longitude'][:] = foo.variables['speed_contour_longitude'][:] - 360\n",
    "    foo.close\n",
    "    \n",
    "def PyEddy(hycom_file, directory_out, pre_filter = False, plot_png = False):\n",
    "\n",
    "    # Load hycom data (adt = ssh, ugos, vgos)\n",
    "    hycom = RegularGridDataset(hycom_file, 'lon', 'lat')\n",
    "    \n",
    "    # Extract Date from file\n",
    "    date = os.path.basename(hycom_file)[15:23]\n",
    "    print(date, int(date[0:4]), int(date[4:6]), int(date[6:8]))\n",
    "    \n",
    "    if pre_filter:\n",
    "        hycom.bessel_high_filter('adt', 500, order=3)  # 500 km\n",
    "        \n",
    "    a, c = hycom.eddy_identification(\n",
    "        'adt', 'ugos', 'vgos',    # Variables used for identification\n",
    "        datetime(int(date[0:4]), int(date[4:6]), int(date[6:8])),\n",
    "        0.005,                    # step between two isolines of detection (m)\n",
    "        pixel_limit=(100, 200000),  # Min and max pixel count for valid contour\n",
    "        shape_error=55)           # Error max (%) between ratio of circle fit and contour\n",
    "\n",
    "    print(type(a))\n",
    "    with Dataset(directory_out + '/Anticyclonic_' + date + '.nc', 'w') as h:\n",
    "        a.to_netcdf(h)\n",
    "    with Dataset(directory_out + '/Cyclonic_' + date + '.nc', 'w') as h:\n",
    "        c.to_netcdf(h)\n",
    "\n",
    "    modify_lon(directory_out + '/Anticyclonic_' + date + '.nc') \n",
    "    modify_lon(directory_out + '/Cyclonic_' + date + '.nc')  \n",
    "    \n",
    "    if plot_png:\n",
    "        \n",
    "        # Read in lon corrected eddy files\n",
    "        a = EddiesObservations.load_file(directory_out + '/Anticyclonic_' + date + '.nc')\n",
    "        c = EddiesObservations.load_file(directory_out + '/Cyclonic_' + date + '.nc')\n",
    "        \n",
    "        fig = plt.figure(figsize=(8, 6), dpi=80)\n",
    "        ax = fig.add_axes([.03,.03,.94,.94])\n",
    "        hycom.display(ax, 'adt', vmin=-0.3, vmax=0.3, cmap='viridis')\n",
    "        a.display(ax, color=\"r\", lw=2) \n",
    "        c.display(ax, color=\"w\", lw=2)\n",
    "        \n",
    "        plt.savefig(directory_out + '/Eddies_' + date + '.png')"
   ]
  },
  {
   "cell_type": "markdown",
   "id": "d1a6764f-8041-4c6d-991b-014a60397e00",
   "metadata": {},
   "source": [
    "### Loop through Files (example is year 2003)"
   ]
  },
  {
   "cell_type": "code",
   "execution_count": null,
   "id": "8abf1040-9bb5-46bf-a77d-ee318d2bd73f",
   "metadata": {},
   "outputs": [
    {
     "name": "stderr",
     "output_type": "stream",
     "text": [
      "We assume pixel position of grid is centered for /media/gsilsbe/modis1/gom/hycom/aviso_in/hycom_gomu_501_2003010100_t000.nc\n"
     ]
    },
    {
     "name": "stdout",
     "output_type": "stream",
     "text": [
      "20030101 2003 1 1\n",
      "<class 'py_eddy_tracker.observations.observation.EddiesObservations'>\n"
     ]
    },
    {
     "name": "stderr",
     "output_type": "stream",
     "text": [
      "We assume pixel position of grid is centered for /media/gsilsbe/modis1/gom/hycom/aviso_in/hycom_gomu_501_2003010200_t000.nc\n"
     ]
    },
    {
     "name": "stdout",
     "output_type": "stream",
     "text": [
      "20030102 2003 1 2\n",
      "<class 'py_eddy_tracker.observations.observation.EddiesObservations'>\n"
     ]
    },
    {
     "name": "stderr",
     "output_type": "stream",
     "text": [
      "We assume pixel position of grid is centered for /media/gsilsbe/modis1/gom/hycom/aviso_in/hycom_gomu_501_2003010300_t000.nc\n"
     ]
    },
    {
     "name": "stdout",
     "output_type": "stream",
     "text": [
      "20030103 2003 1 3\n",
      "<class 'py_eddy_tracker.observations.observation.EddiesObservations'>\n"
     ]
    },
    {
     "name": "stderr",
     "output_type": "stream",
     "text": [
      "We assume pixel position of grid is centered for /media/gsilsbe/modis1/gom/hycom/aviso_in/hycom_gomu_501_2003010400_t000.nc\n"
     ]
    },
    {
     "name": "stdout",
     "output_type": "stream",
     "text": [
      "20030104 2003 1 4\n",
      "<class 'py_eddy_tracker.observations.observation.EddiesObservations'>\n"
     ]
    },
    {
     "name": "stderr",
     "output_type": "stream",
     "text": [
      "We assume pixel position of grid is centered for /media/gsilsbe/modis1/gom/hycom/aviso_in/hycom_gomu_501_2003010500_t000.nc\n"
     ]
    },
    {
     "name": "stdout",
     "output_type": "stream",
     "text": [
      "20030105 2003 1 5\n",
      "<class 'py_eddy_tracker.observations.observation.EddiesObservations'>\n"
     ]
    },
    {
     "name": "stderr",
     "output_type": "stream",
     "text": [
      "We assume pixel position of grid is centered for /media/gsilsbe/modis1/gom/hycom/aviso_in/hycom_gomu_501_2003010600_t000.nc\n"
     ]
    },
    {
     "name": "stdout",
     "output_type": "stream",
     "text": [
      "20030106 2003 1 6\n",
      "<class 'py_eddy_tracker.observations.observation.EddiesObservations'>\n"
     ]
    },
    {
     "name": "stderr",
     "output_type": "stream",
     "text": [
      "We assume pixel position of grid is centered for /media/gsilsbe/modis1/gom/hycom/aviso_in/hycom_gomu_501_2003010700_t000.nc\n"
     ]
    },
    {
     "name": "stdout",
     "output_type": "stream",
     "text": [
      "20030107 2003 1 7\n",
      "<class 'py_eddy_tracker.observations.observation.EddiesObservations'>\n"
     ]
    },
    {
     "name": "stderr",
     "output_type": "stream",
     "text": [
      "We assume pixel position of grid is centered for /media/gsilsbe/modis1/gom/hycom/aviso_in/hycom_gomu_501_2003010800_t000.nc\n"
     ]
    },
    {
     "name": "stdout",
     "output_type": "stream",
     "text": [
      "20030108 2003 1 8\n",
      "<class 'py_eddy_tracker.observations.observation.EddiesObservations'>\n"
     ]
    },
    {
     "name": "stderr",
     "output_type": "stream",
     "text": [
      "We assume pixel position of grid is centered for /media/gsilsbe/modis1/gom/hycom/aviso_in/hycom_gomu_501_2003010900_t000.nc\n"
     ]
    },
    {
     "name": "stdout",
     "output_type": "stream",
     "text": [
      "20030109 2003 1 9\n"
     ]
    }
   ],
   "source": [
    "hycom_in = sorted(glob.glob('/media/gsilsbe/modis1/gom/hycom/aviso_in/hycom_gomu_501_2003*.nc'))\n",
    "directory_out = 'other'\n",
    "\n",
    "for i in hycom_in:\n",
    "    PyEddy(i, directory_out, pre_filter = True, plot_png = True)\n"
   ]
  }
 ],
 "metadata": {
  "kernelspec": {
   "display_name": "Python 3",
   "language": "python",
   "name": "python3"
  },
  "language_info": {
   "codemirror_mode": {
    "name": "ipython",
    "version": 3
   },
   "file_extension": ".py",
   "mimetype": "text/x-python",
   "name": "python",
   "nbconvert_exporter": "python",
   "pygments_lexer": "ipython3",
   "version": "3.9.10"
  }
 },
 "nbformat": 4,
 "nbformat_minor": 5
}
